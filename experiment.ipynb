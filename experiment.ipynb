{
 "cells": [
  {
   "cell_type": "code",
   "execution_count": 1,
   "metadata": {
    "ExecuteTime": {
     "end_time": "2020-06-16T19:09:46.636084Z",
     "start_time": "2020-06-16T19:09:46.310012Z"
    },
    "run_control": {
     "marked": true
    }
   },
   "outputs": [],
   "source": [
    "import numpy as np\n",
    "from scipy.stats import ttest_ind\n",
    "from scipy.stats import norm"
   ]
  },
  {
   "cell_type": "code",
   "execution_count": 2,
   "metadata": {
    "ExecuteTime": {
     "end_time": "2020-06-16T19:09:46.831128Z",
     "start_time": "2020-06-16T19:09:46.637084Z"
    },
    "run_control": {
     "marked": true
    }
   },
   "outputs": [],
   "source": [
    "import matplotlib.pyplot as plt"
   ]
  },
  {
   "cell_type": "code",
   "execution_count": 3,
   "metadata": {
    "ExecuteTime": {
     "end_time": "2020-06-16T19:09:46.835129Z",
     "start_time": "2020-06-16T19:09:46.832128Z"
    },
    "run_control": {
     "marked": true
    }
   },
   "outputs": [],
   "source": [
    "import matplotlib\n",
    "matplotlib.rcParams['font.family'] = \"sans-serif\"\n",
    "matplotlib.rcParams['font.sans-serif'] = \"Calibri\"\n",
    "matplotlib.rcParams['font.size'] = 14"
   ]
  },
  {
   "cell_type": "code",
   "execution_count": 4,
   "metadata": {
    "ExecuteTime": {
     "end_time": "2020-06-16T19:09:46.839129Z",
     "start_time": "2020-06-16T19:09:46.836129Z"
    },
    "run_control": {
     "marked": true
    }
   },
   "outputs": [],
   "source": [
    "def add_noise_2d(arr, ratio):\n",
    "    rands = np.random.rand(arr.shape[0] * arr.shape[1])\n",
    "    condition = rands < ratio\n",
    "    mask = np.flatnonzero(condition)\n",
    "    f = arr.flatten()\n",
    "    f[mask] *= -1\n",
    "    return f.reshape(arr.shape)"
   ]
  },
  {
   "cell_type": "markdown",
   "metadata": {},
   "source": [
    "# Import model"
   ]
  },
  {
   "cell_type": "code",
   "execution_count": 5,
   "metadata": {
    "ExecuteTime": {
     "end_time": "2020-06-16T19:09:46.850132Z",
     "start_time": "2020-06-16T19:09:46.840129Z"
    }
   },
   "outputs": [],
   "source": [
    "from minerva2 import Minerva2"
   ]
  },
  {
   "cell_type": "markdown",
   "metadata": {},
   "source": [
    "# Rhythm/Tone Experiment"
   ]
  },
  {
   "cell_type": "code",
   "execution_count": 6,
   "metadata": {
    "ExecuteTime": {
     "end_time": "2020-06-16T19:09:56.180496Z",
     "start_time": "2020-06-16T19:09:46.390Z"
    },
    "run_control": {
     "marked": true
    },
    "scrolled": false
   },
   "outputs": [
    {
     "ename": "TypeError",
     "evalue": "add_traces() missing 1 required positional argument: 'noise_ratio'",
     "output_type": "error",
     "traceback": [
      "\u001b[1;31m---------------------------------------------------------------------------\u001b[0m",
      "\u001b[1;31mTypeError\u001b[0m                                 Traceback (most recent call last)",
      "\u001b[1;32mc:\\Users\\psyde\\Documents\\GitHub\\minerva2\\experiment.ipynb Cell 8\u001b[0m in \u001b[0;36m<cell line: 10>\u001b[1;34m()\u001b[0m\n\u001b[0;32m     <a href='vscode-notebook-cell:/c%3A/Users/psyde/Documents/GitHub/minerva2/experiment.ipynb#X10sZmlsZQ%3D%3D?line=43'>44</a>\u001b[0m T_B_Ts \u001b[39m=\u001b[39m add_noise_2d(T_B_Ts, NOISE_RATIO)\n\u001b[0;32m     <a href='vscode-notebook-cell:/c%3A/Users/psyde/Documents/GitHub/minerva2/experiment.ipynb#X10sZmlsZQ%3D%3D?line=45'>46</a>\u001b[0m \u001b[39m# add traces to model\u001b[39;00m\n\u001b[1;32m---> <a href='vscode-notebook-cell:/c%3A/Users/psyde/Documents/GitHub/minerva2/experiment.ipynb#X10sZmlsZQ%3D%3D?line=46'>47</a>\u001b[0m model\u001b[39m.\u001b[39;49madd_traces(T_Rs)\n\u001b[0;32m     <a href='vscode-notebook-cell:/c%3A/Users/psyde/Documents/GitHub/minerva2/experiment.ipynb#X10sZmlsZQ%3D%3D?line=47'>48</a>\u001b[0m model\u001b[39m.\u001b[39madd_traces(T_Ts)\n\u001b[0;32m     <a href='vscode-notebook-cell:/c%3A/Users/psyde/Documents/GitHub/minerva2/experiment.ipynb#X10sZmlsZQ%3D%3D?line=48'>49</a>\u001b[0m model\u001b[39m.\u001b[39madd_traces(T_B_Rs)\n",
      "\u001b[1;31mTypeError\u001b[0m: add_traces() missing 1 required positional argument: 'noise_ratio'"
     ]
    },
    {
     "data": {
      "image/png": "[encoded data removed]",
      "text/plain": [
       "<Figure size 1152x1152 with 9 Axes>"
      ]
     },
     "metadata": {
      "needs_background": "light"
     },
     "output_type": "display_data"
    }
   ],
   "source": [
    "# tunable variables\n",
    "FPT = 1000\n",
    "N_PROTOTYPES = 30\n",
    "\n",
    "fig, axs = plt.subplots(3, 3, sharex=True, sharey=True)\n",
    "fig.set_figheight(16)\n",
    "fig.set_figwidth(16)\n",
    "fig.suptitle(\"Echo intensity as a function of feature type\")\n",
    "\n",
    "for i, TONE_RHYTHM_RATIO in enumerate([.5, .6, .7]):\n",
    "    for j, NOISE_RATIO in enumerate([0.01, 0.1, 0.2]):\n",
    "        tone_intensities = []\n",
    "        rhythm_intensities = []\n",
    "        both_intensities = []\n",
    "        unstudied_intensities = []\n",
    "        for _ in range(120):\n",
    "            # create model\n",
    "            model = Minerva2(FPT)\n",
    "\n",
    "            # create probes\n",
    "            Ps_unstudied = np.random.randint(-1, 2, (N_PROTOTYPES, FPT))\n",
    "            Ps_both = np.random.randint(-1, 2, (N_PROTOTYPES, FPT))\n",
    "            Ps_rhythm = np.random.randint(-1, 2, (N_PROTOTYPES, FPT))\n",
    "            Ps_tone = np.random.randint(-1, 2, (N_PROTOTYPES, FPT))\n",
    "\n",
    "            # create traces (subset of probes)\n",
    "            T_Rs = np.copy(Ps_rhythm)\n",
    "            T_Ts = np.copy(Ps_tone)\n",
    "            T_B_Rs = np.copy(Ps_both)\n",
    "            T_B_Ts = np.copy(Ps_both)\n",
    "\n",
    "            # zero out parts of traces (symmetrically)\n",
    "            RT_split_index = round(FPT * TONE_RHYTHM_RATIO)\n",
    "\n",
    "            T_Rs[:, :RT_split_index] *= 0\n",
    "            T_Ts[:, RT_split_index:] *= 0\n",
    "            T_B_Rs[:, RT_split_index:] *= 0\n",
    "            T_B_Ts[:, :RT_split_index] *= 0\n",
    "\n",
    "            # flip some features (add noise)\n",
    "            T_Rs = add_noise_2d(T_Rs, NOISE_RATIO)\n",
    "            T_Ts = add_noise_2d(T_Ts, NOISE_RATIO)\n",
    "            T_B_Rs = add_noise_2d(T_B_Rs, NOISE_RATIO)\n",
    "            T_B_Ts = add_noise_2d(T_B_Ts, NOISE_RATIO)\n",
    "\n",
    "            # add traces to model\n",
    "            model.add_traces(T_Rs)\n",
    "            model.add_traces(T_Ts)\n",
    "            model.add_traces(T_B_Rs)\n",
    "            model.add_traces(T_B_Ts)\n",
    "\n",
    "            # get echo intensities\n",
    "            tone_intensities.extend(model.get_echo_intensities(Ps_tone))\n",
    "            rhythm_intensities.extend(model.get_echo_intensities(Ps_rhythm))\n",
    "            both_intensities.extend(model.get_echo_intensities(Ps_both))\n",
    "            unstudied_intensities.extend(model.get_echo_intensities(Ps_unstudied))\n",
    "\n",
    "        # plot histograms and normal PDFs\n",
    "        mu_tone, std_tone = norm.fit(tone_intensities)\n",
    "        mu_rhythm, std_rhythm = norm.fit(rhythm_intensities)\n",
    "        mu_both, std_both = norm.fit(both_intensities)\n",
    "        mu_unstudied, std_unstudied = norm.fit(unstudied_intensities)\n",
    "\n",
    "        print(i, j)\n",
    "        axs[i, j].hist(unstudied_intensities, color='xkcd:orange', density=True)\n",
    "        axs[i, j].hist(tone_intensities, color='b', density=True)\n",
    "        axs[i, j].hist(rhythm_intensities, color='g', density=True)\n",
    "        axs[i, j].hist(both_intensities, color='r', density=True)\n",
    "        #plt.xlim(-1e-4, .001)\n",
    "        xmin, xmax = axs[i, j].set_xlim(-1e-4, .001)\n",
    "        x = np.linspace(xmin, xmax, 10000)\n",
    "        axs[i, j].set_ylim(0, 60000)\n",
    "\n",
    "        p_unstudied = norm.pdf(x, mu_unstudied, std_unstudied)\n",
    "        axs[i, j].plot(x, p_unstudied, 'k',linewidth=4)\n",
    "        axs[i, j].plot(x, p_unstudied, 'xkcd:orange',linewidth=2, label='UNSTUDIED: $\\mu$ = {:.1e}, $\\sigma$ = {:.1e}'.format(mu_unstudied, std_unstudied))\n",
    "\n",
    "        p_tone = norm.pdf(x, mu_tone, std_tone)\n",
    "        axs[i, j].plot(x, p_tone, 'k',linewidth=4)\n",
    "        axs[i, j].plot(x, p_tone, 'b',linewidth=2, label='TONE: $\\mu$ = {:.1e}, $\\sigma$ = {:.1e}'.format(mu_tone, std_tone))\n",
    "\n",
    "        p_rhythm = norm.pdf(x, mu_rhythm, std_rhythm)\n",
    "        axs[i, j].plot(x, p_rhythm, 'k',linewidth=4)\n",
    "        axs[i, j].plot(x, p_rhythm, 'g',linewidth=2, label='RHYTHM: $\\mu$ = {:.1e}, $\\sigma$ = {:.1e}'.format(mu_rhythm, std_rhythm))\n",
    "\n",
    "        p_both = norm.pdf(x, mu_both, std_both)\n",
    "        axs[i, j].plot(x, p_both, 'k',linewidth=4)\n",
    "        axs[i, j].plot(x, p_both, 'r',linewidth=2, label='BOTH: $\\mu$ = {:.1e}, $\\sigma$ = {:.1e}'.format(mu_both, std_both))\n",
    "\n",
    "        axs[i, j].set_title(\"Noise ratio={}, R/T ratio={}\".format(NOISE_RATIO, TONE_RHYTHM_RATIO))\n",
    "        axs[i, j].set_xlabel(\"Echo Intensity\")\n",
    "        axs[i, j].set_ylabel(\"Density\")\n",
    "        axs[i, j].grid(True)\n",
    "        axs[i, j].legend(loc=1, prop={'size':13.5})\n",
    "        axs[i, j].label_outer()\n",
    "        \n",
    "        with open(\"Simulations_TR_Output_{}_{}.csv\".format(i,j),\"w\") as potato:\n",
    "            potato.write(\"unstudied,tone,rhythm,both\\n\")\n",
    "            for u,t,r,b in zip(unstudied_intensities, tone_intensities, rhythm_intensities, both_intensities):\n",
    "                #potato.write(str(u)+str(t)+str(r)+str(b)+\"\\n\")\n",
    "                potato.write('{},{},{},{}\\n'.format(u,t,r,b))\n",
    "                \n",
    "        labels = ['U','T','R','B']\n",
    "        results = [unstudied_intensities, tone_intensities, rhythm_intensities, both_intensities]\n",
    "        print('_,U,T,R,B')\n",
    "        for k, row in enumerate(results):\n",
    "            print(labels[k], end=',')\n",
    "            for col in results:\n",
    "                print(ttest_ind(row, col).pvalue, end=',')\n",
    "            print()\n",
    "            \n",
    "\n",
    "plt.tight_layout()\n",
    "plt.subplots_adjust(top=0.93)\n",
    "plt.show()\n"
   ]
  },
  {
   "cell_type": "markdown",
   "metadata": {},
   "source": [
    "# Repetition Experiment"
   ]
  },
  {
   "cell_type": "code",
   "execution_count": null,
   "metadata": {
    "ExecuteTime": {
     "end_time": "2020-06-16T19:09:56.182497Z",
     "start_time": "2020-06-16T19:09:46.397Z"
    },
    "run_control": {
     "marked": true
    }
   },
   "outputs": [],
   "source": [
    "# tunable variables\n",
    "FPT = 1000\n",
    "N_PROTOTYPES = 40\n",
    "N=3\n",
    "\n",
    "fig, axs = plt.subplots(3, 3, sharex=True, sharey=True)\n",
    "fig.set_figheight(16)\n",
    "fig.set_figwidth(16)\n",
    "fig.suptitle(\"Echo intensity as a function of repetition\")\n",
    "\n",
    "for i, TONE_RHYTHM_RATIO in enumerate([.5, .6, .7]):\n",
    "    for j, NOISE_RATIO in enumerate([0.01, 0.1, 0.2]):\n",
    "        print(i, j)\n",
    "        R1_intensities = []\n",
    "        RN_intensities = []\n",
    "        unstudied_intensities = []\n",
    "        for _ in range(120):\n",
    "            model = Minerva2(FPT)\n",
    "\n",
    "            # create probes\n",
    "            Ps_unstudied = np.random.randint(-1, 2, (N_PROTOTYPES, FPT))\n",
    "            Ps_rhythm1 = np.random.randint(-1, 2, (N_PROTOTYPES, FPT))\n",
    "            Ps_rhythmN = np.random.randint(-1, 2, (N_PROTOTYPES, FPT))\n",
    "\n",
    "            # create traces (subset of probes)\n",
    "            T_1s = np.copy(Ps_rhythm1)\n",
    "            T_Ns = np.copy(Ps_rhythmN)\n",
    "\n",
    "            # zero out parts of traces (symmetrically)\n",
    "            RT_split_index = round(FPT * TONE_RHYTHM_RATIO)\n",
    "\n",
    "            T_1s[:, :RT_split_index] *= 0\n",
    "            T_Ns[:, :RT_split_index] *= 0\n",
    "\n",
    "            # flip some features (add noise)\n",
    "            T_1s = add_noise_2d(T_1s, NOISE_RATIO)\n",
    "            T_Ns = add_noise_2d(T_Ns, NOISE_RATIO)\n",
    "\n",
    "            # add traces to model\n",
    "            model.add_traces(T_1s)\n",
    "            for _ in range(N):\n",
    "                model.add_traces(T_Ns)\n",
    "\n",
    "            # get echo intensities\n",
    "            R1_intensities.extend(model.get_echo_intensities(Ps_rhythm1))\n",
    "            RN_intensities.extend(model.get_echo_intensities(Ps_rhythmN))\n",
    "            unstudied_intensities.extend(model.get_echo_intensities(Ps_unstudied))\n",
    "\n",
    "        # plot histograms and normal PDFs\n",
    "        mu_1, std_1 = norm.fit(R1_intensities)\n",
    "        mu_N, std_N = norm.fit(RN_intensities)\n",
    "        mu_unstudied, std_unstudied = norm.fit(unstudied_intensities)\n",
    "\n",
    "        axs[i, j].hist(unstudied_intensities, color='xkcd:orange', density=True)\n",
    "        axs[i, j].hist(R1_intensities, color='b', density=True)\n",
    "        axs[i, j].hist(RN_intensities, color='g', density=True)\n",
    "        x = np.linspace(xmin, xmax, 10000)\n",
    "        xmin, xmax = axs[i, j].set_xlim(-1e-4, .0012)\n",
    "        axs[i, j].set_ylim(0, 90000)\n",
    "\n",
    "        p_unstudied = norm.pdf(x, mu_unstudied, std_unstudied)\n",
    "        axs[i, j].plot(x, p_unstudied, 'k',linewidth=4)\n",
    "        axs[i, j].plot(x, p_unstudied, 'xkcd:orange',linewidth=2, label='UNSTUDIED: $\\mu$ = {:.1e}, $\\sigma$ = {:.1e}'.format(mu_unstudied, std_unstudied))\n",
    "\n",
    "        p_1 = norm.pdf(x, mu_1, std_1)\n",
    "        axs[i, j].plot(x, p_1, 'k',linewidth=4)\n",
    "        axs[i, j].plot(x, p_1, 'b',linewidth=2, label='N=1: $\\mu$ = {:.1e}, $\\sigma$ = {:.1e}'.format(mu_1, std_1))\n",
    "\n",
    "        p_N = norm.pdf(x, mu_N, std_N)\n",
    "        axs[i, j].plot(x, p_N, 'k',linewidth=4)\n",
    "        axs[i, j].plot(x, p_N, 'g',linewidth=2, label='N=3: $\\mu$ = {:.1e}, $\\sigma$ = {:.1e}'.format(mu_N, std_N))\n",
    "\n",
    "        axs[i, j].set_title(\"Noise ratio={}, R/T ratio={}\".format(NOISE_RATIO, TONE_RHYTHM_RATIO))\n",
    "        axs[i, j].set_xlabel(\"Echo Intensity\")\n",
    "        axs[i, j].set_ylabel(\"Density\")\n",
    "        axs[i, j].grid(True)\n",
    "        axs[i, j].legend(loc=1, prop={'size':13.5})\n",
    "        axs[i, j].label_outer()\n",
    "        \n",
    "        with open(\"Simulations_Repetition_Output_{}_{}.csv\".format(i,j),\"w\") as potato:\n",
    "            potato.write(\"unstudied,r1,r3\\n\")\n",
    "            for u,r1,r3 in zip(unstudied_intensities, R1_intensities, RN_intensities):\n",
    "                potato.write('{},{},{}\\n'.format(u,r1,r3))  \n",
    "                \n",
    "        labels = ['U','1','N']\n",
    "        results = [unstudied_intensities, R1_intensities, RN_intensities]\n",
    "        print('_,U,1,N')\n",
    "        for k, row in enumerate(results):\n",
    "            print(labels[k], end=',')\n",
    "            for col in results:\n",
    "                print(ttest_ind(row, col).pvalue, end=',')\n",
    "            print()\n",
    "            \n",
    "\n",
    "plt.tight_layout()\n",
    "plt.subplots_adjust(top=0.93)\n",
    "plt.show()\n"
   ]
  },
  {
   "cell_type": "code",
   "execution_count": null,
   "metadata": {},
   "outputs": [],
   "source": []
  }
 ],
 "metadata": {
  "kernelspec": {
   "display_name": "base",
   "language": "python",
   "name": "python3"
  },
  "language_info": {
   "codemirror_mode": {
    "name": "ipython",
    "version": 3
   },
   "file_extension": ".py",
   "mimetype": "text/x-python",
   "name": "python",
   "nbconvert_exporter": "python",
   "pygments_lexer": "ipython3",
   "version": "3.9.12 (main, Apr  4 2022, 05:22:27) [MSC v.1916 64 bit (AMD64)]"
  },
  "notify_time": "30",
  "toc": {
   "base_numbering": 1,
   "nav_menu": {},
   "number_sections": true,
   "sideBar": true,
   "skip_h1_title": false,
   "title_cell": "Table of Contents",
   "title_sidebar": "Contents",
   "toc_cell": false,
   "toc_position": {
    "height": "calc(100% - 180px)",
    "left": "10px",
    "top": "150px",
    "width": "281px"
   },
   "toc_section_display": true,
   "toc_window_display": true
  },
  "varInspector": {
   "cols": {
    "lenName": 16,
    "lenType": 16,
    "lenVar": 40
   },
   "kernels_config": {
    "python": {
     "delete_cmd_postfix": "",
     "delete_cmd_prefix": "del ",
     "library": "var_list.py",
     "varRefreshCmd": "print(var_dic_list())"
    },
    "r": {
     "delete_cmd_postfix": ") ",
     "delete_cmd_prefix": "rm(",
     "library": "var_list.r",
     "varRefreshCmd": "cat(var_dic_list()) "
    }
   },
   "types_to_exclude": [
    "module",
    "function",
    "builtin_function_or_method",
    "instance",
    "_Feature"
   ],
   "window_display": false
  },
  "vscode": {
   "interpreter": {
    "hash": "764cf9572d5a4a055c8d2384c10e3732138a39b81e176ebbc448758861c94eec"
   }
  }
 },
 "nbformat": 4,
 "nbformat_minor": 2
}
